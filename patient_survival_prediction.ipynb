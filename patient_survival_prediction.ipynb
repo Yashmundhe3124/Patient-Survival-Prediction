{
 "cells": [
  {
   "cell_type": "code",
   "execution_count": 1,
   "metadata": {
    "id": "9wQI2WGxbyqJ"
   },
   "outputs": [
    {
     "name": "stderr",
     "output_type": "stream",
     "text": [
      "C:\\Users\\Dell\\OneDrive\\Documents\\lib\\site-packages\\scipy\\__init__.py:146: UserWarning: A NumPy version >=1.16.5 and <1.23.0 is required for this version of SciPy (detected version 1.24.3\n",
      "  warnings.warn(f\"A NumPy version >={np_minversion} and <{np_maxversion}\"\n"
     ]
    }
   ],
   "source": [
    "import pandas as pd\n",
    "import numpy as np\n",
    "import matplotlib.pyplot as plt\n",
    "import seaborn as sns\n",
    "%matplotlib inline\n",
    "\n",
    "import warnings\n",
    "warnings.filterwarnings('ignore')\n"
   ]
  },
  {
   "cell_type": "code",
   "execution_count": 2,
   "metadata": {
    "colab": {
     "base_uri": "https://localhost:8080/",
     "height": 255
    },
    "id": "oJybVhtWcxVG",
    "outputId": "0bbc2c50-0095-4547-9462-d3a10676571f"
   },
   "outputs": [
    {
     "data": {
      "text/html": [
       "<div>\n",
       "<style scoped>\n",
       "    .dataframe tbody tr th:only-of-type {\n",
       "        vertical-align: middle;\n",
       "    }\n",
       "\n",
       "    .dataframe tbody tr th {\n",
       "        vertical-align: top;\n",
       "    }\n",
       "\n",
       "    .dataframe thead th {\n",
       "        text-align: right;\n",
       "    }\n",
       "</style>\n",
       "<table border=\"1\" class=\"dataframe\">\n",
       "  <thead>\n",
       "    <tr style=\"text-align: right;\">\n",
       "      <th></th>\n",
       "      <th>encounter_id</th>\n",
       "      <th>patient_id</th>\n",
       "      <th>hospital_id</th>\n",
       "      <th>hospital_death</th>\n",
       "      <th>age</th>\n",
       "      <th>bmi</th>\n",
       "      <th>elective_surgery</th>\n",
       "      <th>ethnicity</th>\n",
       "      <th>gender</th>\n",
       "      <th>height</th>\n",
       "      <th>...</th>\n",
       "      <th>aids</th>\n",
       "      <th>cirrhosis</th>\n",
       "      <th>diabetes_mellitus</th>\n",
       "      <th>hepatic_failure</th>\n",
       "      <th>immunosuppression</th>\n",
       "      <th>leukemia</th>\n",
       "      <th>lymphoma</th>\n",
       "      <th>solid_tumor_with_metastasis</th>\n",
       "      <th>apache_3j_bodysystem</th>\n",
       "      <th>apache_2_bodysystem</th>\n",
       "    </tr>\n",
       "  </thead>\n",
       "  <tbody>\n",
       "    <tr>\n",
       "      <th>0</th>\n",
       "      <td>66154</td>\n",
       "      <td>25312</td>\n",
       "      <td>118</td>\n",
       "      <td>0</td>\n",
       "      <td>68.0</td>\n",
       "      <td>22.73</td>\n",
       "      <td>0</td>\n",
       "      <td>Caucasian</td>\n",
       "      <td>M</td>\n",
       "      <td>180.3</td>\n",
       "      <td>...</td>\n",
       "      <td>0.0</td>\n",
       "      <td>0.0</td>\n",
       "      <td>1.0</td>\n",
       "      <td>0.0</td>\n",
       "      <td>0.0</td>\n",
       "      <td>0.0</td>\n",
       "      <td>0.0</td>\n",
       "      <td>0.0</td>\n",
       "      <td>Sepsis</td>\n",
       "      <td>Cardiovascular</td>\n",
       "    </tr>\n",
       "    <tr>\n",
       "      <th>1</th>\n",
       "      <td>114252</td>\n",
       "      <td>59342</td>\n",
       "      <td>81</td>\n",
       "      <td>0</td>\n",
       "      <td>77.0</td>\n",
       "      <td>27.42</td>\n",
       "      <td>0</td>\n",
       "      <td>Caucasian</td>\n",
       "      <td>F</td>\n",
       "      <td>160.0</td>\n",
       "      <td>...</td>\n",
       "      <td>0.0</td>\n",
       "      <td>0.0</td>\n",
       "      <td>1.0</td>\n",
       "      <td>0.0</td>\n",
       "      <td>0.0</td>\n",
       "      <td>0.0</td>\n",
       "      <td>0.0</td>\n",
       "      <td>0.0</td>\n",
       "      <td>Respiratory</td>\n",
       "      <td>Respiratory</td>\n",
       "    </tr>\n",
       "    <tr>\n",
       "      <th>2</th>\n",
       "      <td>119783</td>\n",
       "      <td>50777</td>\n",
       "      <td>118</td>\n",
       "      <td>0</td>\n",
       "      <td>25.0</td>\n",
       "      <td>31.95</td>\n",
       "      <td>0</td>\n",
       "      <td>Caucasian</td>\n",
       "      <td>F</td>\n",
       "      <td>172.7</td>\n",
       "      <td>...</td>\n",
       "      <td>0.0</td>\n",
       "      <td>0.0</td>\n",
       "      <td>0.0</td>\n",
       "      <td>0.0</td>\n",
       "      <td>0.0</td>\n",
       "      <td>0.0</td>\n",
       "      <td>0.0</td>\n",
       "      <td>0.0</td>\n",
       "      <td>Metabolic</td>\n",
       "      <td>Metabolic</td>\n",
       "    </tr>\n",
       "    <tr>\n",
       "      <th>3</th>\n",
       "      <td>79267</td>\n",
       "      <td>46918</td>\n",
       "      <td>118</td>\n",
       "      <td>0</td>\n",
       "      <td>81.0</td>\n",
       "      <td>22.64</td>\n",
       "      <td>1</td>\n",
       "      <td>Caucasian</td>\n",
       "      <td>F</td>\n",
       "      <td>165.1</td>\n",
       "      <td>...</td>\n",
       "      <td>0.0</td>\n",
       "      <td>0.0</td>\n",
       "      <td>0.0</td>\n",
       "      <td>0.0</td>\n",
       "      <td>0.0</td>\n",
       "      <td>0.0</td>\n",
       "      <td>0.0</td>\n",
       "      <td>0.0</td>\n",
       "      <td>Cardiovascular</td>\n",
       "      <td>Cardiovascular</td>\n",
       "    </tr>\n",
       "    <tr>\n",
       "      <th>4</th>\n",
       "      <td>92056</td>\n",
       "      <td>34377</td>\n",
       "      <td>33</td>\n",
       "      <td>0</td>\n",
       "      <td>19.0</td>\n",
       "      <td>NaN</td>\n",
       "      <td>0</td>\n",
       "      <td>Caucasian</td>\n",
       "      <td>M</td>\n",
       "      <td>188.0</td>\n",
       "      <td>...</td>\n",
       "      <td>0.0</td>\n",
       "      <td>0.0</td>\n",
       "      <td>0.0</td>\n",
       "      <td>0.0</td>\n",
       "      <td>0.0</td>\n",
       "      <td>0.0</td>\n",
       "      <td>0.0</td>\n",
       "      <td>0.0</td>\n",
       "      <td>Trauma</td>\n",
       "      <td>Trauma</td>\n",
       "    </tr>\n",
       "  </tbody>\n",
       "</table>\n",
       "<p>5 rows × 186 columns</p>\n",
       "</div>"
      ],
      "text/plain": [
       "   encounter_id  patient_id  hospital_id  hospital_death   age    bmi  \\\n",
       "0         66154       25312          118               0  68.0  22.73   \n",
       "1        114252       59342           81               0  77.0  27.42   \n",
       "2        119783       50777          118               0  25.0  31.95   \n",
       "3         79267       46918          118               0  81.0  22.64   \n",
       "4         92056       34377           33               0  19.0    NaN   \n",
       "\n",
       "   elective_surgery  ethnicity gender  height  ... aids cirrhosis  \\\n",
       "0                 0  Caucasian      M   180.3  ...  0.0       0.0   \n",
       "1                 0  Caucasian      F   160.0  ...  0.0       0.0   \n",
       "2                 0  Caucasian      F   172.7  ...  0.0       0.0   \n",
       "3                 1  Caucasian      F   165.1  ...  0.0       0.0   \n",
       "4                 0  Caucasian      M   188.0  ...  0.0       0.0   \n",
       "\n",
       "   diabetes_mellitus hepatic_failure immunosuppression  leukemia  lymphoma  \\\n",
       "0                1.0             0.0               0.0       0.0       0.0   \n",
       "1                1.0             0.0               0.0       0.0       0.0   \n",
       "2                0.0             0.0               0.0       0.0       0.0   \n",
       "3                0.0             0.0               0.0       0.0       0.0   \n",
       "4                0.0             0.0               0.0       0.0       0.0   \n",
       "\n",
       "   solid_tumor_with_metastasis  apache_3j_bodysystem  apache_2_bodysystem  \n",
       "0                          0.0                Sepsis       Cardiovascular  \n",
       "1                          0.0           Respiratory          Respiratory  \n",
       "2                          0.0             Metabolic            Metabolic  \n",
       "3                          0.0        Cardiovascular       Cardiovascular  \n",
       "4                          0.0                Trauma               Trauma  \n",
       "\n",
       "[5 rows x 186 columns]"
      ]
     },
     "execution_count": 2,
     "metadata": {},
     "output_type": "execute_result"
    }
   ],
   "source": [
    "df = pd.read_csv(\"Patient_Dataset.csv\")\n",
    "df.head()"
   ]
  },
  {
   "cell_type": "code",
   "execution_count": 3,
   "metadata": {
    "colab": {
     "base_uri": "https://localhost:8080/"
    },
    "id": "GnVyBspymkfY",
    "outputId": "e4b23aa8-286f-4d5c-ec21-fa3094f8ac74"
   },
   "outputs": [
    {
     "data": {
      "text/plain": [
       "(91713, 186)"
      ]
     },
     "execution_count": 3,
     "metadata": {},
     "output_type": "execute_result"
    }
   ],
   "source": [
    "df.shape"
   ]
  },
  {
   "cell_type": "code",
   "execution_count": 4,
   "metadata": {
    "colab": {
     "base_uri": "https://localhost:8080/"
    },
    "id": "CckgJKgIlokV",
    "outputId": "ffe765a5-1279-44f3-a560-d0e0f193b667"
   },
   "outputs": [
    {
     "name": "stdout",
     "output_type": "stream",
     "text": [
      "<class 'pandas.core.frame.DataFrame'>\n",
      "RangeIndex: 91713 entries, 0 to 91712\n",
      "Columns: 186 entries, encounter_id to apache_2_bodysystem\n",
      "dtypes: float64(170), int64(8), object(8)\n",
      "memory usage: 130.1+ MB\n"
     ]
    }
   ],
   "source": [
    "df.info()"
   ]
  },
  {
   "cell_type": "code",
   "execution_count": 5,
   "metadata": {
    "colab": {
     "base_uri": "https://localhost:8080/",
     "height": 349
    },
    "id": "LcnYa8KlmyH0",
    "outputId": "5daa7b66-32ee-452d-9c5c-71bf4ce5e7a4"
   },
   "outputs": [
    {
     "data": {
      "text/html": [
       "<div>\n",
       "<style scoped>\n",
       "    .dataframe tbody tr th:only-of-type {\n",
       "        vertical-align: middle;\n",
       "    }\n",
       "\n",
       "    .dataframe tbody tr th {\n",
       "        vertical-align: top;\n",
       "    }\n",
       "\n",
       "    .dataframe thead th {\n",
       "        text-align: right;\n",
       "    }\n",
       "</style>\n",
       "<table border=\"1\" class=\"dataframe\">\n",
       "  <thead>\n",
       "    <tr style=\"text-align: right;\">\n",
       "      <th></th>\n",
       "      <th>encounter_id</th>\n",
       "      <th>patient_id</th>\n",
       "      <th>hospital_id</th>\n",
       "      <th>hospital_death</th>\n",
       "      <th>age</th>\n",
       "      <th>bmi</th>\n",
       "      <th>elective_surgery</th>\n",
       "      <th>height</th>\n",
       "      <th>icu_id</th>\n",
       "      <th>pre_icu_los_days</th>\n",
       "      <th>...</th>\n",
       "      <th>apache_4a_hospital_death_prob</th>\n",
       "      <th>apache_4a_icu_death_prob</th>\n",
       "      <th>aids</th>\n",
       "      <th>cirrhosis</th>\n",
       "      <th>diabetes_mellitus</th>\n",
       "      <th>hepatic_failure</th>\n",
       "      <th>immunosuppression</th>\n",
       "      <th>leukemia</th>\n",
       "      <th>lymphoma</th>\n",
       "      <th>solid_tumor_with_metastasis</th>\n",
       "    </tr>\n",
       "  </thead>\n",
       "  <tbody>\n",
       "    <tr>\n",
       "      <th>count</th>\n",
       "      <td>91713.000000</td>\n",
       "      <td>91713.000000</td>\n",
       "      <td>91713.000000</td>\n",
       "      <td>91713.000000</td>\n",
       "      <td>87485.000000</td>\n",
       "      <td>88284.000000</td>\n",
       "      <td>91713.000000</td>\n",
       "      <td>90379.000000</td>\n",
       "      <td>91713.000000</td>\n",
       "      <td>91713.000000</td>\n",
       "      <td>...</td>\n",
       "      <td>83766.000000</td>\n",
       "      <td>83766.000000</td>\n",
       "      <td>90998.000000</td>\n",
       "      <td>90998.000000</td>\n",
       "      <td>90998.000000</td>\n",
       "      <td>90998.000000</td>\n",
       "      <td>90998.000000</td>\n",
       "      <td>90998.000000</td>\n",
       "      <td>90998.000000</td>\n",
       "      <td>90998.000000</td>\n",
       "    </tr>\n",
       "    <tr>\n",
       "      <th>mean</th>\n",
       "      <td>65606.079280</td>\n",
       "      <td>65537.131464</td>\n",
       "      <td>105.669262</td>\n",
       "      <td>0.086302</td>\n",
       "      <td>62.309516</td>\n",
       "      <td>29.185818</td>\n",
       "      <td>0.183736</td>\n",
       "      <td>169.641588</td>\n",
       "      <td>508.357692</td>\n",
       "      <td>0.835766</td>\n",
       "      <td>...</td>\n",
       "      <td>0.086787</td>\n",
       "      <td>0.043955</td>\n",
       "      <td>0.000857</td>\n",
       "      <td>0.015693</td>\n",
       "      <td>0.225192</td>\n",
       "      <td>0.012989</td>\n",
       "      <td>0.026165</td>\n",
       "      <td>0.007066</td>\n",
       "      <td>0.004132</td>\n",
       "      <td>0.020638</td>\n",
       "    </tr>\n",
       "    <tr>\n",
       "      <th>std</th>\n",
       "      <td>37795.088538</td>\n",
       "      <td>37811.252183</td>\n",
       "      <td>62.854406</td>\n",
       "      <td>0.280811</td>\n",
       "      <td>16.775119</td>\n",
       "      <td>8.275142</td>\n",
       "      <td>0.387271</td>\n",
       "      <td>10.795378</td>\n",
       "      <td>228.989661</td>\n",
       "      <td>2.487756</td>\n",
       "      <td>...</td>\n",
       "      <td>0.247569</td>\n",
       "      <td>0.217341</td>\n",
       "      <td>0.029265</td>\n",
       "      <td>0.124284</td>\n",
       "      <td>0.417711</td>\n",
       "      <td>0.113229</td>\n",
       "      <td>0.159628</td>\n",
       "      <td>0.083763</td>\n",
       "      <td>0.064148</td>\n",
       "      <td>0.142169</td>\n",
       "    </tr>\n",
       "    <tr>\n",
       "      <th>min</th>\n",
       "      <td>1.000000</td>\n",
       "      <td>1.000000</td>\n",
       "      <td>2.000000</td>\n",
       "      <td>0.000000</td>\n",
       "      <td>16.000000</td>\n",
       "      <td>14.844926</td>\n",
       "      <td>0.000000</td>\n",
       "      <td>137.200000</td>\n",
       "      <td>82.000000</td>\n",
       "      <td>-24.947222</td>\n",
       "      <td>...</td>\n",
       "      <td>-1.000000</td>\n",
       "      <td>-1.000000</td>\n",
       "      <td>0.000000</td>\n",
       "      <td>0.000000</td>\n",
       "      <td>0.000000</td>\n",
       "      <td>0.000000</td>\n",
       "      <td>0.000000</td>\n",
       "      <td>0.000000</td>\n",
       "      <td>0.000000</td>\n",
       "      <td>0.000000</td>\n",
       "    </tr>\n",
       "    <tr>\n",
       "      <th>25%</th>\n",
       "      <td>32852.000000</td>\n",
       "      <td>32830.000000</td>\n",
       "      <td>47.000000</td>\n",
       "      <td>0.000000</td>\n",
       "      <td>52.000000</td>\n",
       "      <td>23.641975</td>\n",
       "      <td>0.000000</td>\n",
       "      <td>162.500000</td>\n",
       "      <td>369.000000</td>\n",
       "      <td>0.035417</td>\n",
       "      <td>...</td>\n",
       "      <td>0.020000</td>\n",
       "      <td>0.010000</td>\n",
       "      <td>0.000000</td>\n",
       "      <td>0.000000</td>\n",
       "      <td>0.000000</td>\n",
       "      <td>0.000000</td>\n",
       "      <td>0.000000</td>\n",
       "      <td>0.000000</td>\n",
       "      <td>0.000000</td>\n",
       "      <td>0.000000</td>\n",
       "    </tr>\n",
       "    <tr>\n",
       "      <th>50%</th>\n",
       "      <td>65665.000000</td>\n",
       "      <td>65413.000000</td>\n",
       "      <td>109.000000</td>\n",
       "      <td>0.000000</td>\n",
       "      <td>65.000000</td>\n",
       "      <td>27.654655</td>\n",
       "      <td>0.000000</td>\n",
       "      <td>170.100000</td>\n",
       "      <td>504.000000</td>\n",
       "      <td>0.138889</td>\n",
       "      <td>...</td>\n",
       "      <td>0.050000</td>\n",
       "      <td>0.020000</td>\n",
       "      <td>0.000000</td>\n",
       "      <td>0.000000</td>\n",
       "      <td>0.000000</td>\n",
       "      <td>0.000000</td>\n",
       "      <td>0.000000</td>\n",
       "      <td>0.000000</td>\n",
       "      <td>0.000000</td>\n",
       "      <td>0.000000</td>\n",
       "    </tr>\n",
       "    <tr>\n",
       "      <th>75%</th>\n",
       "      <td>98342.000000</td>\n",
       "      <td>98298.000000</td>\n",
       "      <td>161.000000</td>\n",
       "      <td>0.000000</td>\n",
       "      <td>75.000000</td>\n",
       "      <td>32.930206</td>\n",
       "      <td>0.000000</td>\n",
       "      <td>177.800000</td>\n",
       "      <td>679.000000</td>\n",
       "      <td>0.409028</td>\n",
       "      <td>...</td>\n",
       "      <td>0.130000</td>\n",
       "      <td>0.060000</td>\n",
       "      <td>0.000000</td>\n",
       "      <td>0.000000</td>\n",
       "      <td>0.000000</td>\n",
       "      <td>0.000000</td>\n",
       "      <td>0.000000</td>\n",
       "      <td>0.000000</td>\n",
       "      <td>0.000000</td>\n",
       "      <td>0.000000</td>\n",
       "    </tr>\n",
       "    <tr>\n",
       "      <th>max</th>\n",
       "      <td>131051.000000</td>\n",
       "      <td>131051.000000</td>\n",
       "      <td>204.000000</td>\n",
       "      <td>1.000000</td>\n",
       "      <td>89.000000</td>\n",
       "      <td>67.814990</td>\n",
       "      <td>1.000000</td>\n",
       "      <td>195.590000</td>\n",
       "      <td>927.000000</td>\n",
       "      <td>159.090972</td>\n",
       "      <td>...</td>\n",
       "      <td>0.990000</td>\n",
       "      <td>0.970000</td>\n",
       "      <td>1.000000</td>\n",
       "      <td>1.000000</td>\n",
       "      <td>1.000000</td>\n",
       "      <td>1.000000</td>\n",
       "      <td>1.000000</td>\n",
       "      <td>1.000000</td>\n",
       "      <td>1.000000</td>\n",
       "      <td>1.000000</td>\n",
       "    </tr>\n",
       "  </tbody>\n",
       "</table>\n",
       "<p>8 rows × 178 columns</p>\n",
       "</div>"
      ],
      "text/plain": [
       "        encounter_id     patient_id   hospital_id  hospital_death  \\\n",
       "count   91713.000000   91713.000000  91713.000000    91713.000000   \n",
       "mean    65606.079280   65537.131464    105.669262        0.086302   \n",
       "std     37795.088538   37811.252183     62.854406        0.280811   \n",
       "min         1.000000       1.000000      2.000000        0.000000   \n",
       "25%     32852.000000   32830.000000     47.000000        0.000000   \n",
       "50%     65665.000000   65413.000000    109.000000        0.000000   \n",
       "75%     98342.000000   98298.000000    161.000000        0.000000   \n",
       "max    131051.000000  131051.000000    204.000000        1.000000   \n",
       "\n",
       "                age           bmi  elective_surgery        height  \\\n",
       "count  87485.000000  88284.000000      91713.000000  90379.000000   \n",
       "mean      62.309516     29.185818          0.183736    169.641588   \n",
       "std       16.775119      8.275142          0.387271     10.795378   \n",
       "min       16.000000     14.844926          0.000000    137.200000   \n",
       "25%       52.000000     23.641975          0.000000    162.500000   \n",
       "50%       65.000000     27.654655          0.000000    170.100000   \n",
       "75%       75.000000     32.930206          0.000000    177.800000   \n",
       "max       89.000000     67.814990          1.000000    195.590000   \n",
       "\n",
       "             icu_id  pre_icu_los_days  ...  apache_4a_hospital_death_prob  \\\n",
       "count  91713.000000      91713.000000  ...                   83766.000000   \n",
       "mean     508.357692          0.835766  ...                       0.086787   \n",
       "std      228.989661          2.487756  ...                       0.247569   \n",
       "min       82.000000        -24.947222  ...                      -1.000000   \n",
       "25%      369.000000          0.035417  ...                       0.020000   \n",
       "50%      504.000000          0.138889  ...                       0.050000   \n",
       "75%      679.000000          0.409028  ...                       0.130000   \n",
       "max      927.000000        159.090972  ...                       0.990000   \n",
       "\n",
       "       apache_4a_icu_death_prob          aids     cirrhosis  \\\n",
       "count              83766.000000  90998.000000  90998.000000   \n",
       "mean                   0.043955      0.000857      0.015693   \n",
       "std                    0.217341      0.029265      0.124284   \n",
       "min                   -1.000000      0.000000      0.000000   \n",
       "25%                    0.010000      0.000000      0.000000   \n",
       "50%                    0.020000      0.000000      0.000000   \n",
       "75%                    0.060000      0.000000      0.000000   \n",
       "max                    0.970000      1.000000      1.000000   \n",
       "\n",
       "       diabetes_mellitus  hepatic_failure  immunosuppression      leukemia  \\\n",
       "count       90998.000000     90998.000000       90998.000000  90998.000000   \n",
       "mean            0.225192         0.012989           0.026165      0.007066   \n",
       "std             0.417711         0.113229           0.159628      0.083763   \n",
       "min             0.000000         0.000000           0.000000      0.000000   \n",
       "25%             0.000000         0.000000           0.000000      0.000000   \n",
       "50%             0.000000         0.000000           0.000000      0.000000   \n",
       "75%             0.000000         0.000000           0.000000      0.000000   \n",
       "max             1.000000         1.000000           1.000000      1.000000   \n",
       "\n",
       "           lymphoma  solid_tumor_with_metastasis  \n",
       "count  90998.000000                 90998.000000  \n",
       "mean       0.004132                     0.020638  \n",
       "std        0.064148                     0.142169  \n",
       "min        0.000000                     0.000000  \n",
       "25%        0.000000                     0.000000  \n",
       "50%        0.000000                     0.000000  \n",
       "75%        0.000000                     0.000000  \n",
       "max        1.000000                     1.000000  \n",
       "\n",
       "[8 rows x 178 columns]"
      ]
     },
     "execution_count": 5,
     "metadata": {},
     "output_type": "execute_result"
    }
   ],
   "source": [
    "df.describe()"
   ]
  },
  {
   "cell_type": "code",
   "execution_count": 6,
   "metadata": {
    "colab": {
     "base_uri": "https://localhost:8080/"
    },
    "id": "gDoAzVfEmqba",
    "outputId": "a86c1cb9-85bc-4b5d-ec54-f7fe7e0e4202"
   },
   "outputs": [
    {
     "data": {
      "text/plain": [
       "encounter_id                      0\n",
       "patient_id                        0\n",
       "hospital_id                       0\n",
       "hospital_death                    0\n",
       "age                            4228\n",
       "                               ... \n",
       "leukemia                        715\n",
       "lymphoma                        715\n",
       "solid_tumor_with_metastasis     715\n",
       "apache_3j_bodysystem           1662\n",
       "apache_2_bodysystem            1662\n",
       "Length: 186, dtype: int64"
      ]
     },
     "execution_count": 6,
     "metadata": {},
     "output_type": "execute_result"
    }
   ],
   "source": [
    "df.isnull().sum()"
   ]
  },
  {
   "cell_type": "code",
   "execution_count": 7,
   "metadata": {
    "colab": {
     "base_uri": "https://localhost:8080/",
     "height": 193
    },
    "id": "4pD8jwJmnAbX",
    "outputId": "29437558-d8f0-4a8c-db4f-c26ceff647c5"
   },
   "outputs": [
    {
     "data": {
      "text/html": [
       "<div>\n",
       "<style scoped>\n",
       "    .dataframe tbody tr th:only-of-type {\n",
       "        vertical-align: middle;\n",
       "    }\n",
       "\n",
       "    .dataframe tbody tr th {\n",
       "        vertical-align: top;\n",
       "    }\n",
       "\n",
       "    .dataframe thead th {\n",
       "        text-align: right;\n",
       "    }\n",
       "</style>\n",
       "<table border=\"1\" class=\"dataframe\">\n",
       "  <thead>\n",
       "    <tr style=\"text-align: right;\">\n",
       "      <th></th>\n",
       "      <th>encounter_id</th>\n",
       "      <th>patient_id</th>\n",
       "      <th>hospital_id</th>\n",
       "      <th>age</th>\n",
       "      <th>bmi</th>\n",
       "      <th>elective_surgery</th>\n",
       "      <th>height</th>\n",
       "      <th>icu_id</th>\n",
       "      <th>pre_icu_los_days</th>\n",
       "      <th>readmission_status</th>\n",
       "      <th>...</th>\n",
       "      <th>apache_4a_hospital_death_prob</th>\n",
       "      <th>apache_4a_icu_death_prob</th>\n",
       "      <th>aids</th>\n",
       "      <th>cirrhosis</th>\n",
       "      <th>diabetes_mellitus</th>\n",
       "      <th>hepatic_failure</th>\n",
       "      <th>immunosuppression</th>\n",
       "      <th>leukemia</th>\n",
       "      <th>lymphoma</th>\n",
       "      <th>solid_tumor_with_metastasis</th>\n",
       "    </tr>\n",
       "    <tr>\n",
       "      <th>hospital_death</th>\n",
       "      <th></th>\n",
       "      <th></th>\n",
       "      <th></th>\n",
       "      <th></th>\n",
       "      <th></th>\n",
       "      <th></th>\n",
       "      <th></th>\n",
       "      <th></th>\n",
       "      <th></th>\n",
       "      <th></th>\n",
       "      <th></th>\n",
       "      <th></th>\n",
       "      <th></th>\n",
       "      <th></th>\n",
       "      <th></th>\n",
       "      <th></th>\n",
       "      <th></th>\n",
       "      <th></th>\n",
       "      <th></th>\n",
       "      <th></th>\n",
       "      <th></th>\n",
       "    </tr>\n",
       "  </thead>\n",
       "  <tbody>\n",
       "    <tr>\n",
       "      <th>0</th>\n",
       "      <td>65666.975501</td>\n",
       "      <td>65480.459629</td>\n",
       "      <td>105.693501</td>\n",
       "      <td>61.748741</td>\n",
       "      <td>29.264902</td>\n",
       "      <td>0.194873</td>\n",
       "      <td>169.706029</td>\n",
       "      <td>508.287716</td>\n",
       "      <td>0.787357</td>\n",
       "      <td>0.0</td>\n",
       "      <td>...</td>\n",
       "      <td>0.062882</td>\n",
       "      <td>0.024799</td>\n",
       "      <td>0.000818</td>\n",
       "      <td>0.014188</td>\n",
       "      <td>0.227215</td>\n",
       "      <td>0.011639</td>\n",
       "      <td>0.024012</td>\n",
       "      <td>0.006301</td>\n",
       "      <td>0.003763</td>\n",
       "      <td>0.018409</td>\n",
       "    </tr>\n",
       "    <tr>\n",
       "      <th>1</th>\n",
       "      <td>64961.356412</td>\n",
       "      <td>66137.129754</td>\n",
       "      <td>105.412634</td>\n",
       "      <td>68.494156</td>\n",
       "      <td>28.340398</td>\n",
       "      <td>0.065824</td>\n",
       "      <td>168.952094</td>\n",
       "      <td>509.098547</td>\n",
       "      <td>1.348287</td>\n",
       "      <td>0.0</td>\n",
       "      <td>...</td>\n",
       "      <td>0.334838</td>\n",
       "      <td>0.242726</td>\n",
       "      <td>0.001277</td>\n",
       "      <td>0.031673</td>\n",
       "      <td>0.203704</td>\n",
       "      <td>0.027331</td>\n",
       "      <td>0.049042</td>\n",
       "      <td>0.015198</td>\n",
       "      <td>0.008046</td>\n",
       "      <td>0.044317</td>\n",
       "    </tr>\n",
       "  </tbody>\n",
       "</table>\n",
       "<p>2 rows × 177 columns</p>\n",
       "</div>"
      ],
      "text/plain": [
       "                encounter_id    patient_id  hospital_id        age        bmi  \\\n",
       "hospital_death                                                                  \n",
       "0               65666.975501  65480.459629   105.693501  61.748741  29.264902   \n",
       "1               64961.356412  66137.129754   105.412634  68.494156  28.340398   \n",
       "\n",
       "                elective_surgery      height      icu_id  pre_icu_los_days  \\\n",
       "hospital_death                                                               \n",
       "0                       0.194873  169.706029  508.287716          0.787357   \n",
       "1                       0.065824  168.952094  509.098547          1.348287   \n",
       "\n",
       "                readmission_status  ...  apache_4a_hospital_death_prob  \\\n",
       "hospital_death                      ...                                  \n",
       "0                              0.0  ...                       0.062882   \n",
       "1                              0.0  ...                       0.334838   \n",
       "\n",
       "                apache_4a_icu_death_prob      aids  cirrhosis  \\\n",
       "hospital_death                                                  \n",
       "0                               0.024799  0.000818   0.014188   \n",
       "1                               0.242726  0.001277   0.031673   \n",
       "\n",
       "                diabetes_mellitus  hepatic_failure  immunosuppression  \\\n",
       "hospital_death                                                          \n",
       "0                        0.227215         0.011639           0.024012   \n",
       "1                        0.203704         0.027331           0.049042   \n",
       "\n",
       "                leukemia  lymphoma  solid_tumor_with_metastasis  \n",
       "hospital_death                                                   \n",
       "0               0.006301  0.003763                     0.018409  \n",
       "1               0.015198  0.008046                     0.044317  \n",
       "\n",
       "[2 rows x 177 columns]"
      ]
     },
     "execution_count": 7,
     "metadata": {},
     "output_type": "execute_result"
    }
   ],
   "source": [
    "df.groupby('hospital_death').mean()"
   ]
  },
  {
   "cell_type": "code",
   "execution_count": 8,
   "metadata": {
    "colab": {
     "base_uri": "https://localhost:8080/"
    },
    "id": "97ZSe4ldm6BP",
    "outputId": "4f5f1b99-5bd7-4db5-ba4b-9dd1399f7adb"
   },
   "outputs": [
    {
     "data": {
      "text/plain": [
       "0    83798\n",
       "1     7915\n",
       "Name: hospital_death, dtype: int64"
      ]
     },
     "execution_count": 8,
     "metadata": {},
     "output_type": "execute_result"
    }
   ],
   "source": [
    "df['hospital_death'].value_counts()"
   ]
  },
  {
   "cell_type": "code",
   "execution_count": 9,
   "metadata": {
    "colab": {
     "base_uri": "https://localhost:8080/",
     "height": 468
    },
    "id": "RoZ8P3k3ngFW",
    "outputId": "d12af748-d474-49b9-f0fc-d3bec8844256"
   },
   "outputs": [
    {
     "data": {
      "text/plain": [
       "<AxesSubplot:xlabel='hospital_death', ylabel='count'>"
      ]
     },
     "execution_count": 9,
     "metadata": {},
     "output_type": "execute_result"
    },
    {
     "data": {
      "image/png": "[encoded data removed]",
      "text/plain": [
       "<Figure size 432x288 with 1 Axes>"
      ]
     },
     "metadata": {},
     "output_type": "display_data"
    }
   ],
   "source": [
    "sns.set_style('whitegrid')\n",
    "sns.countplot(x='hospital_death',data=df)"
   ]
  },
  {
   "cell_type": "code",
   "execution_count": 10,
   "metadata": {
    "colab": {
     "base_uri": "https://localhost:8080/"
    },
    "id": "wvHmXb5Ln_Gz",
    "outputId": "ae096322-8bc1-47aa-9da5-5239e2bbdf13"
   },
   "outputs": [
    {
     "data": {
      "text/plain": [
       "Index(['ethnicity', 'gender', 'hospital_admit_source', 'icu_admit_source',\n",
       "       'icu_stay_type', 'icu_type', 'apache_3j_bodysystem',\n",
       "       'apache_2_bodysystem'],\n",
       "      dtype='object')"
      ]
     },
     "execution_count": 10,
     "metadata": {},
     "output_type": "execute_result"
    }
   ],
   "source": [
    "object_columns = df.select_dtypes(include=['object']).columns\n",
    "object_columns"
   ]
  },
  {
   "cell_type": "code",
   "execution_count": 11,
   "metadata": {
    "colab": {
     "base_uri": "https://localhost:8080/"
    },
    "id": "vPVNX8INr5B4",
    "outputId": "cfbb08ec-be6f-4a42-f65e-c963953a7b36"
   },
   "outputs": [
    {
     "data": {
      "text/plain": [
       "Index(['encounter_id', 'patient_id', 'hospital_id', 'hospital_death', 'age',\n",
       "       'bmi', 'elective_surgery', 'height', 'icu_id', 'pre_icu_los_days',\n",
       "       ...\n",
       "       'apache_4a_hospital_death_prob', 'apache_4a_icu_death_prob', 'aids',\n",
       "       'cirrhosis', 'diabetes_mellitus', 'hepatic_failure',\n",
       "       'immunosuppression', 'leukemia', 'lymphoma',\n",
       "       'solid_tumor_with_metastasis'],\n",
       "      dtype='object', length=178)"
      ]
     },
     "execution_count": 11,
     "metadata": {},
     "output_type": "execute_result"
    }
   ],
   "source": [
    "cols = df.select_dtypes([np.number]).columns\n",
    "cols"
   ]
  },
  {
   "cell_type": "code",
   "execution_count": 12,
   "metadata": {
    "colab": {
     "base_uri": "https://localhost:8080/",
     "height": 468
    },
    "id": "rnPnHK42sELs",
    "outputId": "458cd536-b6ee-4721-ea95-bda7f7c35090"
   },
   "outputs": [
    {
     "data": {
      "text/plain": [
       "<AxesSubplot:xlabel='hospital_death', ylabel='Density'>"
      ]
     },
     "execution_count": 12,
     "metadata": {},
     "output_type": "execute_result"
    },
    {
     "data": {
      "image/png": "[encoded data removed]",
      "text/plain": [
       "<Figure size 432x288 with 1 Axes>"
      ]
     },
     "metadata": {},
     "output_type": "display_data"
    }
   ],
   "source": [
    "sns.distplot(df['hospital_death'])"
   ]
  },
  {
   "cell_type": "code",
   "execution_count": 12,
   "metadata": {
    "id": "V_IcJ0RssLzq"
   },
   "outputs": [],
   "source": [
    "df[cols] = df[cols].fillna(df[cols].mean())"
   ]
  },
  {
   "cell_type": "code",
   "execution_count": 13,
   "metadata": {
    "colab": {
     "base_uri": "https://localhost:8080/",
     "height": 443
    },
    "id": "UzdEueDJsXkj",
    "outputId": "584212a8-906a-4190-dad4-4ad5aa226a48"
   },
   "outputs": [
    {
     "data": {
      "text/html": [
       "<div>\n",
       "<style scoped>\n",
       "    .dataframe tbody tr th:only-of-type {\n",
       "        vertical-align: middle;\n",
       "    }\n",
       "\n",
       "    .dataframe tbody tr th {\n",
       "        vertical-align: top;\n",
       "    }\n",
       "\n",
       "    .dataframe thead th {\n",
       "        text-align: right;\n",
       "    }\n",
       "</style>\n",
       "<table border=\"1\" class=\"dataframe\">\n",
       "  <thead>\n",
       "    <tr style=\"text-align: right;\">\n",
       "      <th></th>\n",
       "      <th>encounter_id</th>\n",
       "      <th>patient_id</th>\n",
       "      <th>hospital_id</th>\n",
       "      <th>hospital_death</th>\n",
       "      <th>age</th>\n",
       "      <th>bmi</th>\n",
       "      <th>elective_surgery</th>\n",
       "      <th>height</th>\n",
       "      <th>icu_id</th>\n",
       "      <th>pre_icu_los_days</th>\n",
       "      <th>...</th>\n",
       "      <th>apache_4a_hospital_death_prob</th>\n",
       "      <th>apache_4a_icu_death_prob</th>\n",
       "      <th>aids</th>\n",
       "      <th>cirrhosis</th>\n",
       "      <th>diabetes_mellitus</th>\n",
       "      <th>hepatic_failure</th>\n",
       "      <th>immunosuppression</th>\n",
       "      <th>leukemia</th>\n",
       "      <th>lymphoma</th>\n",
       "      <th>solid_tumor_with_metastasis</th>\n",
       "    </tr>\n",
       "  </thead>\n",
       "  <tbody>\n",
       "    <tr>\n",
       "      <th>0</th>\n",
       "      <td>66154</td>\n",
       "      <td>25312</td>\n",
       "      <td>118</td>\n",
       "      <td>0</td>\n",
       "      <td>68.000000</td>\n",
       "      <td>22.730000</td>\n",
       "      <td>0</td>\n",
       "      <td>180.3</td>\n",
       "      <td>92</td>\n",
       "      <td>0.541667</td>\n",
       "      <td>...</td>\n",
       "      <td>0.100000</td>\n",
       "      <td>0.050000</td>\n",
       "      <td>0.0</td>\n",
       "      <td>0.0</td>\n",
       "      <td>1.0</td>\n",
       "      <td>0.0</td>\n",
       "      <td>0.0</td>\n",
       "      <td>0.0</td>\n",
       "      <td>0.0</td>\n",
       "      <td>0.0</td>\n",
       "    </tr>\n",
       "    <tr>\n",
       "      <th>1</th>\n",
       "      <td>114252</td>\n",
       "      <td>59342</td>\n",
       "      <td>81</td>\n",
       "      <td>0</td>\n",
       "      <td>77.000000</td>\n",
       "      <td>27.420000</td>\n",
       "      <td>0</td>\n",
       "      <td>160.0</td>\n",
       "      <td>90</td>\n",
       "      <td>0.927778</td>\n",
       "      <td>...</td>\n",
       "      <td>0.470000</td>\n",
       "      <td>0.290000</td>\n",
       "      <td>0.0</td>\n",
       "      <td>0.0</td>\n",
       "      <td>1.0</td>\n",
       "      <td>0.0</td>\n",
       "      <td>0.0</td>\n",
       "      <td>0.0</td>\n",
       "      <td>0.0</td>\n",
       "      <td>0.0</td>\n",
       "    </tr>\n",
       "    <tr>\n",
       "      <th>2</th>\n",
       "      <td>119783</td>\n",
       "      <td>50777</td>\n",
       "      <td>118</td>\n",
       "      <td>0</td>\n",
       "      <td>25.000000</td>\n",
       "      <td>31.950000</td>\n",
       "      <td>0</td>\n",
       "      <td>172.7</td>\n",
       "      <td>93</td>\n",
       "      <td>0.000694</td>\n",
       "      <td>...</td>\n",
       "      <td>0.000000</td>\n",
       "      <td>0.000000</td>\n",
       "      <td>0.0</td>\n",
       "      <td>0.0</td>\n",
       "      <td>0.0</td>\n",
       "      <td>0.0</td>\n",
       "      <td>0.0</td>\n",
       "      <td>0.0</td>\n",
       "      <td>0.0</td>\n",
       "      <td>0.0</td>\n",
       "    </tr>\n",
       "    <tr>\n",
       "      <th>3</th>\n",
       "      <td>79267</td>\n",
       "      <td>46918</td>\n",
       "      <td>118</td>\n",
       "      <td>0</td>\n",
       "      <td>81.000000</td>\n",
       "      <td>22.640000</td>\n",
       "      <td>1</td>\n",
       "      <td>165.1</td>\n",
       "      <td>92</td>\n",
       "      <td>0.000694</td>\n",
       "      <td>...</td>\n",
       "      <td>0.040000</td>\n",
       "      <td>0.030000</td>\n",
       "      <td>0.0</td>\n",
       "      <td>0.0</td>\n",
       "      <td>0.0</td>\n",
       "      <td>0.0</td>\n",
       "      <td>0.0</td>\n",
       "      <td>0.0</td>\n",
       "      <td>0.0</td>\n",
       "      <td>0.0</td>\n",
       "    </tr>\n",
       "    <tr>\n",
       "      <th>4</th>\n",
       "      <td>92056</td>\n",
       "      <td>34377</td>\n",
       "      <td>33</td>\n",
       "      <td>0</td>\n",
       "      <td>19.000000</td>\n",
       "      <td>29.185818</td>\n",
       "      <td>0</td>\n",
       "      <td>188.0</td>\n",
       "      <td>91</td>\n",
       "      <td>0.073611</td>\n",
       "      <td>...</td>\n",
       "      <td>0.086787</td>\n",
       "      <td>0.043955</td>\n",
       "      <td>0.0</td>\n",
       "      <td>0.0</td>\n",
       "      <td>0.0</td>\n",
       "      <td>0.0</td>\n",
       "      <td>0.0</td>\n",
       "      <td>0.0</td>\n",
       "      <td>0.0</td>\n",
       "      <td>0.0</td>\n",
       "    </tr>\n",
       "    <tr>\n",
       "      <th>...</th>\n",
       "      <td>...</td>\n",
       "      <td>...</td>\n",
       "      <td>...</td>\n",
       "      <td>...</td>\n",
       "      <td>...</td>\n",
       "      <td>...</td>\n",
       "      <td>...</td>\n",
       "      <td>...</td>\n",
       "      <td>...</td>\n",
       "      <td>...</td>\n",
       "      <td>...</td>\n",
       "      <td>...</td>\n",
       "      <td>...</td>\n",
       "      <td>...</td>\n",
       "      <td>...</td>\n",
       "      <td>...</td>\n",
       "      <td>...</td>\n",
       "      <td>...</td>\n",
       "      <td>...</td>\n",
       "      <td>...</td>\n",
       "      <td>...</td>\n",
       "    </tr>\n",
       "    <tr>\n",
       "      <th>91708</th>\n",
       "      <td>91592</td>\n",
       "      <td>78108</td>\n",
       "      <td>30</td>\n",
       "      <td>0</td>\n",
       "      <td>75.000000</td>\n",
       "      <td>23.060250</td>\n",
       "      <td>0</td>\n",
       "      <td>177.8</td>\n",
       "      <td>927</td>\n",
       "      <td>0.298611</td>\n",
       "      <td>...</td>\n",
       "      <td>0.120000</td>\n",
       "      <td>0.050000</td>\n",
       "      <td>0.0</td>\n",
       "      <td>0.0</td>\n",
       "      <td>1.0</td>\n",
       "      <td>0.0</td>\n",
       "      <td>0.0</td>\n",
       "      <td>0.0</td>\n",
       "      <td>0.0</td>\n",
       "      <td>1.0</td>\n",
       "    </tr>\n",
       "    <tr>\n",
       "      <th>91709</th>\n",
       "      <td>66119</td>\n",
       "      <td>13486</td>\n",
       "      <td>121</td>\n",
       "      <td>0</td>\n",
       "      <td>56.000000</td>\n",
       "      <td>47.179671</td>\n",
       "      <td>0</td>\n",
       "      <td>183.0</td>\n",
       "      <td>925</td>\n",
       "      <td>0.120139</td>\n",
       "      <td>...</td>\n",
       "      <td>0.030000</td>\n",
       "      <td>0.020000</td>\n",
       "      <td>0.0</td>\n",
       "      <td>0.0</td>\n",
       "      <td>0.0</td>\n",
       "      <td>0.0</td>\n",
       "      <td>0.0</td>\n",
       "      <td>0.0</td>\n",
       "      <td>0.0</td>\n",
       "      <td>0.0</td>\n",
       "    </tr>\n",
       "    <tr>\n",
       "      <th>91710</th>\n",
       "      <td>8981</td>\n",
       "      <td>58179</td>\n",
       "      <td>195</td>\n",
       "      <td>0</td>\n",
       "      <td>48.000000</td>\n",
       "      <td>27.236914</td>\n",
       "      <td>0</td>\n",
       "      <td>170.2</td>\n",
       "      <td>908</td>\n",
       "      <td>0.046528</td>\n",
       "      <td>...</td>\n",
       "      <td>0.050000</td>\n",
       "      <td>0.020000</td>\n",
       "      <td>0.0</td>\n",
       "      <td>0.0</td>\n",
       "      <td>1.0</td>\n",
       "      <td>0.0</td>\n",
       "      <td>0.0</td>\n",
       "      <td>0.0</td>\n",
       "      <td>0.0</td>\n",
       "      <td>0.0</td>\n",
       "    </tr>\n",
       "    <tr>\n",
       "      <th>91711</th>\n",
       "      <td>33776</td>\n",
       "      <td>120598</td>\n",
       "      <td>66</td>\n",
       "      <td>0</td>\n",
       "      <td>62.309516</td>\n",
       "      <td>23.297481</td>\n",
       "      <td>0</td>\n",
       "      <td>154.9</td>\n",
       "      <td>922</td>\n",
       "      <td>0.081944</td>\n",
       "      <td>...</td>\n",
       "      <td>0.070000</td>\n",
       "      <td>0.020000</td>\n",
       "      <td>0.0</td>\n",
       "      <td>0.0</td>\n",
       "      <td>0.0</td>\n",
       "      <td>0.0</td>\n",
       "      <td>0.0</td>\n",
       "      <td>0.0</td>\n",
       "      <td>0.0</td>\n",
       "      <td>0.0</td>\n",
       "    </tr>\n",
       "    <tr>\n",
       "      <th>91712</th>\n",
       "      <td>1671</td>\n",
       "      <td>53612</td>\n",
       "      <td>104</td>\n",
       "      <td>0</td>\n",
       "      <td>82.000000</td>\n",
       "      <td>22.031250</td>\n",
       "      <td>1</td>\n",
       "      <td>160.0</td>\n",
       "      <td>926</td>\n",
       "      <td>0.018056</td>\n",
       "      <td>...</td>\n",
       "      <td>0.190000</td>\n",
       "      <td>0.080000</td>\n",
       "      <td>0.0</td>\n",
       "      <td>0.0</td>\n",
       "      <td>0.0</td>\n",
       "      <td>0.0</td>\n",
       "      <td>0.0</td>\n",
       "      <td>0.0</td>\n",
       "      <td>0.0</td>\n",
       "      <td>0.0</td>\n",
       "    </tr>\n",
       "  </tbody>\n",
       "</table>\n",
       "<p>91713 rows × 178 columns</p>\n",
       "</div>"
      ],
      "text/plain": [
       "       encounter_id  patient_id  hospital_id  hospital_death        age  \\\n",
       "0             66154       25312          118               0  68.000000   \n",
       "1            114252       59342           81               0  77.000000   \n",
       "2            119783       50777          118               0  25.000000   \n",
       "3             79267       46918          118               0  81.000000   \n",
       "4             92056       34377           33               0  19.000000   \n",
       "...             ...         ...          ...             ...        ...   \n",
       "91708         91592       78108           30               0  75.000000   \n",
       "91709         66119       13486          121               0  56.000000   \n",
       "91710          8981       58179          195               0  48.000000   \n",
       "91711         33776      120598           66               0  62.309516   \n",
       "91712          1671       53612          104               0  82.000000   \n",
       "\n",
       "             bmi  elective_surgery  height  icu_id  pre_icu_los_days  ...  \\\n",
       "0      22.730000                 0   180.3      92          0.541667  ...   \n",
       "1      27.420000                 0   160.0      90          0.927778  ...   \n",
       "2      31.950000                 0   172.7      93          0.000694  ...   \n",
       "3      22.640000                 1   165.1      92          0.000694  ...   \n",
       "4      29.185818                 0   188.0      91          0.073611  ...   \n",
       "...          ...               ...     ...     ...               ...  ...   \n",
       "91708  23.060250                 0   177.8     927          0.298611  ...   \n",
       "91709  47.179671                 0   183.0     925          0.120139  ...   \n",
       "91710  27.236914                 0   170.2     908          0.046528  ...   \n",
       "91711  23.297481                 0   154.9     922          0.081944  ...   \n",
       "91712  22.031250                 1   160.0     926          0.018056  ...   \n",
       "\n",
       "       apache_4a_hospital_death_prob  apache_4a_icu_death_prob  aids  \\\n",
       "0                           0.100000                  0.050000   0.0   \n",
       "1                           0.470000                  0.290000   0.0   \n",
       "2                           0.000000                  0.000000   0.0   \n",
       "3                           0.040000                  0.030000   0.0   \n",
       "4                           0.086787                  0.043955   0.0   \n",
       "...                              ...                       ...   ...   \n",
       "91708                       0.120000                  0.050000   0.0   \n",
       "91709                       0.030000                  0.020000   0.0   \n",
       "91710                       0.050000                  0.020000   0.0   \n",
       "91711                       0.070000                  0.020000   0.0   \n",
       "91712                       0.190000                  0.080000   0.0   \n",
       "\n",
       "       cirrhosis  diabetes_mellitus  hepatic_failure  immunosuppression  \\\n",
       "0            0.0                1.0              0.0                0.0   \n",
       "1            0.0                1.0              0.0                0.0   \n",
       "2            0.0                0.0              0.0                0.0   \n",
       "3            0.0                0.0              0.0                0.0   \n",
       "4            0.0                0.0              0.0                0.0   \n",
       "...          ...                ...              ...                ...   \n",
       "91708        0.0                1.0              0.0                0.0   \n",
       "91709        0.0                0.0              0.0                0.0   \n",
       "91710        0.0                1.0              0.0                0.0   \n",
       "91711        0.0                0.0              0.0                0.0   \n",
       "91712        0.0                0.0              0.0                0.0   \n",
       "\n",
       "       leukemia  lymphoma  solid_tumor_with_metastasis  \n",
       "0           0.0       0.0                          0.0  \n",
       "1           0.0       0.0                          0.0  \n",
       "2           0.0       0.0                          0.0  \n",
       "3           0.0       0.0                          0.0  \n",
       "4           0.0       0.0                          0.0  \n",
       "...         ...       ...                          ...  \n",
       "91708       0.0       0.0                          1.0  \n",
       "91709       0.0       0.0                          0.0  \n",
       "91710       0.0       0.0                          0.0  \n",
       "91711       0.0       0.0                          0.0  \n",
       "91712       0.0       0.0                          0.0  \n",
       "\n",
       "[91713 rows x 178 columns]"
      ]
     },
     "execution_count": 13,
     "metadata": {},
     "output_type": "execute_result"
    }
   ],
   "source": [
    "df[cols]"
   ]
  },
  {
   "cell_type": "code",
   "execution_count": 14,
   "metadata": {
    "colab": {
     "base_uri": "https://localhost:8080/"
    },
    "id": "4iZkPys4scMR",
    "outputId": "68824184-293c-44b8-ac7f-75cf09901659"
   },
   "outputs": [
    {
     "name": "stdout",
     "output_type": "stream",
     "text": [
      "ethnicity\n",
      "gender\n",
      "hospital_admit_source\n",
      "icu_admit_source\n",
      "icu_stay_type\n",
      "icu_type\n",
      "apache_3j_bodysystem\n",
      "apache_2_bodysystem\n"
     ]
    }
   ],
   "source": [
    "object_columns = ['ethnicity', 'gender', 'hospital_admit_source', 'icu_admit_source',\n",
    "       'icu_stay_type', 'icu_type', 'apache_3j_bodysystem',\n",
    "       'apache_2_bodysystem']\n",
    "for i in object_columns:\n",
    "    df[i].fillna(df[i].mode()[0], inplace=True)\n",
    "    print(i)"
   ]
  },
  {
   "cell_type": "code",
   "execution_count": 15,
   "metadata": {
    "colab": {
     "base_uri": "https://localhost:8080/"
    },
    "id": "PbHUvxRutM6z",
    "outputId": "4a1e5e2c-8ed4-4895-d3a5-8eba214cd678"
   },
   "outputs": [
    {
     "data": {
      "text/plain": [
       "0"
      ]
     },
     "execution_count": 15,
     "metadata": {},
     "output_type": "execute_result"
    }
   ],
   "source": [
    "df.isnull().any().sum()"
   ]
  },
  {
   "cell_type": "code",
   "execution_count": 16,
   "metadata": {
    "colab": {
     "base_uri": "https://localhost:8080/",
     "height": 255
    },
    "id": "9YmntlB4tSka",
    "outputId": "c992ae69-4400-4149-c5e7-34c506f60028"
   },
   "outputs": [
    {
     "data": {
      "text/html": [
       "<div>\n",
       "<style scoped>\n",
       "    .dataframe tbody tr th:only-of-type {\n",
       "        vertical-align: middle;\n",
       "    }\n",
       "\n",
       "    .dataframe tbody tr th {\n",
       "        vertical-align: top;\n",
       "    }\n",
       "\n",
       "    .dataframe thead th {\n",
       "        text-align: right;\n",
       "    }\n",
       "</style>\n",
       "<table border=\"1\" class=\"dataframe\">\n",
       "  <thead>\n",
       "    <tr style=\"text-align: right;\">\n",
       "      <th></th>\n",
       "      <th>encounter_id</th>\n",
       "      <th>patient_id</th>\n",
       "      <th>hospital_id</th>\n",
       "      <th>hospital_death</th>\n",
       "      <th>age</th>\n",
       "      <th>bmi</th>\n",
       "      <th>elective_surgery</th>\n",
       "      <th>ethnicity</th>\n",
       "      <th>gender</th>\n",
       "      <th>height</th>\n",
       "      <th>...</th>\n",
       "      <th>aids</th>\n",
       "      <th>cirrhosis</th>\n",
       "      <th>diabetes_mellitus</th>\n",
       "      <th>hepatic_failure</th>\n",
       "      <th>immunosuppression</th>\n",
       "      <th>leukemia</th>\n",
       "      <th>lymphoma</th>\n",
       "      <th>solid_tumor_with_metastasis</th>\n",
       "      <th>apache_3j_bodysystem</th>\n",
       "      <th>apache_2_bodysystem</th>\n",
       "    </tr>\n",
       "  </thead>\n",
       "  <tbody>\n",
       "    <tr>\n",
       "      <th>0</th>\n",
       "      <td>66154</td>\n",
       "      <td>25312</td>\n",
       "      <td>118</td>\n",
       "      <td>0</td>\n",
       "      <td>68.0</td>\n",
       "      <td>22.730000</td>\n",
       "      <td>0</td>\n",
       "      <td>2</td>\n",
       "      <td>1</td>\n",
       "      <td>180.3</td>\n",
       "      <td>...</td>\n",
       "      <td>0.0</td>\n",
       "      <td>0.0</td>\n",
       "      <td>1.0</td>\n",
       "      <td>0.0</td>\n",
       "      <td>0.0</td>\n",
       "      <td>0.0</td>\n",
       "      <td>0.0</td>\n",
       "      <td>0.0</td>\n",
       "      <td>9</td>\n",
       "      <td>0</td>\n",
       "    </tr>\n",
       "    <tr>\n",
       "      <th>1</th>\n",
       "      <td>114252</td>\n",
       "      <td>59342</td>\n",
       "      <td>81</td>\n",
       "      <td>0</td>\n",
       "      <td>77.0</td>\n",
       "      <td>27.420000</td>\n",
       "      <td>0</td>\n",
       "      <td>2</td>\n",
       "      <td>0</td>\n",
       "      <td>160.0</td>\n",
       "      <td>...</td>\n",
       "      <td>0.0</td>\n",
       "      <td>0.0</td>\n",
       "      <td>1.0</td>\n",
       "      <td>0.0</td>\n",
       "      <td>0.0</td>\n",
       "      <td>0.0</td>\n",
       "      <td>0.0</td>\n",
       "      <td>0.0</td>\n",
       "      <td>8</td>\n",
       "      <td>6</td>\n",
       "    </tr>\n",
       "    <tr>\n",
       "      <th>2</th>\n",
       "      <td>119783</td>\n",
       "      <td>50777</td>\n",
       "      <td>118</td>\n",
       "      <td>0</td>\n",
       "      <td>25.0</td>\n",
       "      <td>31.950000</td>\n",
       "      <td>0</td>\n",
       "      <td>2</td>\n",
       "      <td>0</td>\n",
       "      <td>172.7</td>\n",
       "      <td>...</td>\n",
       "      <td>0.0</td>\n",
       "      <td>0.0</td>\n",
       "      <td>0.0</td>\n",
       "      <td>0.0</td>\n",
       "      <td>0.0</td>\n",
       "      <td>0.0</td>\n",
       "      <td>0.0</td>\n",
       "      <td>0.0</td>\n",
       "      <td>5</td>\n",
       "      <td>3</td>\n",
       "    </tr>\n",
       "    <tr>\n",
       "      <th>3</th>\n",
       "      <td>79267</td>\n",
       "      <td>46918</td>\n",
       "      <td>118</td>\n",
       "      <td>0</td>\n",
       "      <td>81.0</td>\n",
       "      <td>22.640000</td>\n",
       "      <td>1</td>\n",
       "      <td>2</td>\n",
       "      <td>0</td>\n",
       "      <td>165.1</td>\n",
       "      <td>...</td>\n",
       "      <td>0.0</td>\n",
       "      <td>0.0</td>\n",
       "      <td>0.0</td>\n",
       "      <td>0.0</td>\n",
       "      <td>0.0</td>\n",
       "      <td>0.0</td>\n",
       "      <td>0.0</td>\n",
       "      <td>0.0</td>\n",
       "      <td>0</td>\n",
       "      <td>0</td>\n",
       "    </tr>\n",
       "    <tr>\n",
       "      <th>4</th>\n",
       "      <td>92056</td>\n",
       "      <td>34377</td>\n",
       "      <td>33</td>\n",
       "      <td>0</td>\n",
       "      <td>19.0</td>\n",
       "      <td>29.185818</td>\n",
       "      <td>0</td>\n",
       "      <td>2</td>\n",
       "      <td>1</td>\n",
       "      <td>188.0</td>\n",
       "      <td>...</td>\n",
       "      <td>0.0</td>\n",
       "      <td>0.0</td>\n",
       "      <td>0.0</td>\n",
       "      <td>0.0</td>\n",
       "      <td>0.0</td>\n",
       "      <td>0.0</td>\n",
       "      <td>0.0</td>\n",
       "      <td>0.0</td>\n",
       "      <td>10</td>\n",
       "      <td>7</td>\n",
       "    </tr>\n",
       "  </tbody>\n",
       "</table>\n",
       "<p>5 rows × 186 columns</p>\n",
       "</div>"
      ],
      "text/plain": [
       "   encounter_id  patient_id  hospital_id  hospital_death   age        bmi  \\\n",
       "0         66154       25312          118               0  68.0  22.730000   \n",
       "1        114252       59342           81               0  77.0  27.420000   \n",
       "2        119783       50777          118               0  25.0  31.950000   \n",
       "3         79267       46918          118               0  81.0  22.640000   \n",
       "4         92056       34377           33               0  19.0  29.185818   \n",
       "\n",
       "   elective_surgery  ethnicity  gender  height  ...  aids  cirrhosis  \\\n",
       "0                 0          2       1   180.3  ...   0.0        0.0   \n",
       "1                 0          2       0   160.0  ...   0.0        0.0   \n",
       "2                 0          2       0   172.7  ...   0.0        0.0   \n",
       "3                 1          2       0   165.1  ...   0.0        0.0   \n",
       "4                 0          2       1   188.0  ...   0.0        0.0   \n",
       "\n",
       "   diabetes_mellitus  hepatic_failure  immunosuppression  leukemia  lymphoma  \\\n",
       "0                1.0              0.0                0.0       0.0       0.0   \n",
       "1                1.0              0.0                0.0       0.0       0.0   \n",
       "2                0.0              0.0                0.0       0.0       0.0   \n",
       "3                0.0              0.0                0.0       0.0       0.0   \n",
       "4                0.0              0.0                0.0       0.0       0.0   \n",
       "\n",
       "   solid_tumor_with_metastasis  apache_3j_bodysystem  apache_2_bodysystem  \n",
       "0                          0.0                     9                    0  \n",
       "1                          0.0                     8                    6  \n",
       "2                          0.0                     5                    3  \n",
       "3                          0.0                     0                    0  \n",
       "4                          0.0                    10                    7  \n",
       "\n",
       "[5 rows x 186 columns]"
      ]
     },
     "execution_count": 16,
     "metadata": {},
     "output_type": "execute_result"
    }
   ],
   "source": [
    "from sklearn.preprocessing import LabelEncoder\n",
    "le = LabelEncoder()\n",
    "object_columns = ['ethnicity', 'gender', 'hospital_admit_source', 'icu_admit_source',\n",
    "       'icu_stay_type', 'icu_type', 'apache_3j_bodysystem',\n",
    "       'apache_2_bodysystem']\n",
    "#\n",
    "# Encode labels of multiple columns at once\n",
    "#\n",
    "df[object_columns] = df[object_columns].apply(LabelEncoder().fit_transform)\n",
    "#\n",
    "# Print head\n",
    "#\n",
    "df.head()"
   ]
  },
  {
   "cell_type": "code",
   "execution_count": 17,
   "metadata": {
    "id": "lg_5s4cUtoLO"
   },
   "outputs": [],
   "source": [
    "X = df.drop(columns='hospital_death', axis=1)\n",
    "Y = df['hospital_death']"
   ]
  },
  {
   "cell_type": "code",
   "execution_count": 18,
   "metadata": {
    "id": "ptscqsxNttuj"
   },
   "outputs": [],
   "source": [
    "from sklearn.model_selection import train_test_split\n",
    "X_train, X_test, Y_train, Y_test = train_test_split(X, Y, test_size=0.1, random_state=2)"
   ]
  },
  {
   "cell_type": "code",
   "execution_count": 19,
   "metadata": {
    "colab": {
     "base_uri": "https://localhost:8080/"
    },
    "id": "-1jk43u9t94A",
    "outputId": "3de5213d-08da-4b13-fe2a-37c66cc31242"
   },
   "outputs": [
    {
     "name": "stdout",
     "output_type": "stream",
     "text": [
      "(91713, 185) (82541, 185) (9172, 185)\n"
     ]
    }
   ],
   "source": [
    "print(X.shape, X_train.shape, X_test.shape)"
   ]
  },
  {
   "cell_type": "code",
   "execution_count": 24,
   "metadata": {
    "colab": {
     "base_uri": "https://localhost:8080/"
    },
    "id": "4hysZ9B6uBpC",
    "outputId": "de1075a6-ae5d-4658-8e2b-0fbef41763b7"
   },
   "outputs": [
    {
     "data": {
      "text/plain": [
       "array([0.00000000e+00, 0.00000000e+00, 6.28354537e-03, 6.96634996e-03,\n",
       "       8.31075755e-04, 6.62242099e-03, 1.04187858e-02, 5.96288041e-03,\n",
       "       2.22561039e-03, 1.13680367e-02, 8.34669372e-03, 8.80789905e-03,\n",
       "       0.00000000e+00, 5.25053310e-03, 3.35338210e-03, 3.57948193e-05,\n",
       "       9.40880437e-04, 1.57516711e-02, 3.46146588e-02, 3.81627037e-02,\n",
       "       5.21000399e-03, 6.22633586e-04, 1.48388059e-02, 1.67470356e-02,\n",
       "       1.58467565e-02, 2.47380236e-02, 3.67400388e-02, 3.93986423e-02,\n",
       "       1.53673100e-03, 3.51426902e-02, 8.19869125e-03, 1.38286877e-02,\n",
       "       4.09977217e-03, 1.35054699e-02, 1.83207714e-02, 2.58856567e-02,\n",
       "       2.71542949e-02, 2.89956574e-02, 2.95688797e-02, 6.43009107e-03,\n",
       "       7.35892496e-03, 2.03719542e-02, 1.10236919e-02, 2.60386023e-02,\n",
       "       1.13275007e-02, 1.47464142e-02, 1.75414925e-02, 7.30918808e-04,\n",
       "       1.91423499e-02, 3.27722872e-03, 1.85491974e-02, 1.42933681e-02,\n",
       "       1.51875192e-02, 1.43269019e-02, 1.66035019e-02, 2.79508601e-03,\n",
       "       2.42922664e-02, 2.54629103e-03, 2.02172843e-02, 1.09082555e-02,\n",
       "       1.06757707e-02, 1.24277702e-02, 2.19132088e-02, 1.48348188e-02,\n",
       "       2.06446112e-02, 3.96445579e-03, 2.70310828e-02, 3.36384239e-03,\n",
       "       2.87099295e-02, 1.68802720e-02, 2.24496790e-02, 1.51922924e-02,\n",
       "       8.70720106e-03, 3.52184095e-03, 1.04237691e-02, 4.24039688e-03,\n",
       "       1.05682643e-02, 6.96559796e-03, 4.28880530e-03, 1.26665007e-02,\n",
       "       1.44982005e-02, 6.05110206e-03, 1.31102376e-02, 4.41887329e-03,\n",
       "       1.40465213e-02, 9.96730192e-03, 8.36022028e-03, 7.27116667e-03,\n",
       "       1.00333576e-02, 1.40158344e-02, 1.01259957e-02, 6.12459427e-03,\n",
       "       1.48501592e-02, 4.60619443e-03, 1.41377913e-02, 1.25707879e-02,\n",
       "       1.16741515e-02, 1.48097314e-02, 1.49185856e-02, 1.30511142e-02,\n",
       "       1.45172442e-02, 1.95031430e-02, 1.63426129e-02, 7.50727017e-03,\n",
       "       8.66072400e-03, 1.89680968e-02, 1.39004627e-02, 5.17465978e-03,\n",
       "       7.40297287e-03, 1.23297425e-02, 1.74419158e-02, 2.49665281e-03,\n",
       "       4.66049786e-03, 3.82642549e-03, 3.48050187e-03, 1.79598360e-02,\n",
       "       1.72334237e-02, 3.92931298e-02, 4.41098450e-02, 4.81238306e-03,\n",
       "       6.98930145e-03, 6.60495208e-03, 7.31704974e-03, 7.45957567e-03,\n",
       "       4.92928578e-03, 1.09313539e-02, 9.94924379e-03, 1.52328593e-02,\n",
       "       1.52460838e-02, 2.06031387e-02, 1.87067663e-02, 1.20985870e-02,\n",
       "       1.62259134e-02, 1.75760508e-02, 1.61169202e-02, 1.35930548e-02,\n",
       "       1.51742756e-02, 7.57920629e-03, 9.13537261e-03, 1.37882332e-02,\n",
       "       1.57551192e-02, 1.08189385e-02, 1.21230653e-02, 1.67628812e-02,\n",
       "       1.48108193e-02, 1.73688880e-02, 1.71630725e-02, 1.97974365e-02,\n",
       "       2.03100001e-02, 1.26438061e-02, 1.05611684e-02, 1.62543348e-02,\n",
       "       1.68697655e-02, 1.56209109e-02, 1.52064543e-02, 1.09168827e-02,\n",
       "       1.15848514e-02, 2.82024942e-02, 3.18344799e-02, 3.11035226e-02,\n",
       "       3.55237056e-02, 2.71379783e-02, 2.94890991e-02, 3.43110945e-02,\n",
       "       3.05748642e-02, 1.66873540e-02, 1.78677852e-02, 1.59813265e-02,\n",
       "       1.62153845e-02, 1.67176638e-02, 1.82830882e-02, 1.46697550e-02,\n",
       "       1.66793171e-02, 7.32270247e-02, 7.40548098e-02, 0.00000000e+00,\n",
       "       8.25795704e-04, 7.59424996e-05, 0.00000000e+00, 3.16899274e-03,\n",
       "       8.45494408e-04, 0.00000000e+00, 1.13192909e-03, 1.03290357e-02,\n",
       "       8.25787867e-03])"
      ]
     },
     "execution_count": 24,
     "metadata": {},
     "output_type": "execute_result"
    }
   ],
   "source": [
    "from sklearn.feature_selection import mutual_info_classif\n",
    "# determine the mutual information\n",
    "mutual_info = mutual_info_classif(X_train, Y_train)\n",
    "mutual_info"
   ]
  },
  {
   "cell_type": "code",
   "execution_count": 25,
   "metadata": {
    "colab": {
     "base_uri": "https://localhost:8080/"
    },
    "id": "cm-pKNMwuI4P",
    "outputId": "4fbed596-c0b8-445e-cab2-e9fb6d6f3980"
   },
   "outputs": [
    {
     "data": {
      "text/plain": [
       "apache_4a_icu_death_prob         0.074055\n",
       "apache_4a_hospital_death_prob    0.073227\n",
       "d1_lactate_min                   0.044110\n",
       "gcs_motor_apache                 0.039399\n",
       "d1_lactate_max                   0.039293\n",
       "                                   ...   \n",
       "patient_id                       0.000000\n",
       "hepatic_failure                  0.000000\n",
       "aids                             0.000000\n",
       "icu_stay_type                    0.000000\n",
       "encounter_id                     0.000000\n",
       "Length: 185, dtype: float64"
      ]
     },
     "execution_count": 25,
     "metadata": {},
     "output_type": "execute_result"
    }
   ],
   "source": [
    "mutual_info = pd.Series(mutual_info)\n",
    "mutual_info.index = X_train.columns\n",
    "mutual_info.sort_values(ascending=False)"
   ]
  },
  {
   "cell_type": "code",
   "execution_count": 26,
   "metadata": {
    "id": "s_SUD3dfv53z"
   },
   "outputs": [],
   "source": [
    "from sklearn.feature_selection import SelectKBest"
   ]
  },
  {
   "cell_type": "code",
   "execution_count": 27,
   "metadata": {
    "colab": {
     "base_uri": "https://localhost:8080/"
    },
    "id": "WWQmhOtSwEX6",
    "outputId": "9a928b2a-1419-4faa-f643-818c0e745e60"
   },
   "outputs": [
    {
     "data": {
      "text/plain": [
       "Index(['apache_3j_diagnosis', 'gcs_motor_apache', 'd1_lactate_min',\n",
       "       'apache_4a_hospital_death_prob', 'apache_4a_icu_death_prob'],\n",
       "      dtype='object')"
      ]
     },
     "execution_count": 27,
     "metadata": {},
     "output_type": "execute_result"
    }
   ],
   "source": [
    "#Now we Will select the  top 5 important features\n",
    "sel_five_cols = SelectKBest(mutual_info_classif, k=5)\n",
    "sel_five_cols.fit(X_train, Y_train)\n",
    "X_train.columns[sel_five_cols.get_support()]"
   ]
  },
  {
   "cell_type": "code",
   "execution_count": 28,
   "metadata": {
    "id": "RyljsNCGwIVs"
   },
   "outputs": [],
   "source": [
    "X_train_new = sel_five_cols.transform(X_train)\n",
    "X_test_new =  sel_five_cols.transform(X_test)"
   ]
  },
  {
   "cell_type": "code",
   "execution_count": 29,
   "metadata": {
    "id": "2vdcY9DQwmDr"
   },
   "outputs": [],
   "source": [
    "from sklearn.preprocessing import StandardScaler"
   ]
  },
  {
   "cell_type": "code",
   "execution_count": 30,
   "metadata": {
    "id": "WSfuv0juwu_K"
   },
   "outputs": [],
   "source": [
    "scaler = StandardScaler()\n",
    "X_train_std = scaler.fit_transform(X_train_new)\n",
    "X_test_std = scaler.transform(X_test_new)"
   ]
  },
  {
   "cell_type": "code",
   "execution_count": 31,
   "metadata": {},
   "outputs": [
    {
     "name": "stdout",
     "output_type": "stream",
     "text": [
      "WARNING:tensorflow:From C:\\Users\\Dell\\OneDrive\\Documents\\lib\\site-packages\\keras\\src\\losses.py:2976: The name tf.losses.sparse_softmax_cross_entropy is deprecated. Please use tf.compat.v1.losses.sparse_softmax_cross_entropy instead.\n",
      "\n"
     ]
    }
   ],
   "source": [
    "import keras\n",
    "import tensorflow"
   ]
  },
  {
   "cell_type": "code",
   "execution_count": 32,
   "metadata": {
    "id": "Y5e7N05Zqxrs"
   },
   "outputs": [
    {
     "name": "stdout",
     "output_type": "stream",
     "text": [
      "WARNING:tensorflow:From C:\\Users\\Dell\\OneDrive\\Documents\\lib\\site-packages\\keras\\src\\backend.py:873: The name tf.get_default_graph is deprecated. Please use tf.compat.v1.get_default_graph instead.\n",
      "\n"
     ]
    }
   ],
   "source": [
    "from keras import Sequential\n",
    "from keras.layers import Dense\n",
    "model = Sequential()\n",
    "model.add(Dense(12, input_dim=5, activation='relu'))\n",
    "model.add(Dense(8, activation='relu'))\n",
    "model.add(Dense(1, activation='sigmoid'))"
   ]
  },
  {
   "cell_type": "code",
   "execution_count": 33,
   "metadata": {
    "colab": {
     "base_uri": "https://localhost:8080/"
    },
    "id": "KrMY2604q1sg",
    "outputId": "43446e08-488e-486a-979c-c6ed2dd91e8e"
   },
   "outputs": [
    {
     "name": "stderr",
     "output_type": "stream",
     "text": [
      "WARNING:absl:`lr` is deprecated in Keras optimizer, please use `learning_rate` or use the legacy optimizer, e.g.,tf.keras.optimizers.legacy.Adam.\n"
     ]
    }
   ],
   "source": [
    "import tensorflow as tf\n",
    "#Compile the model\n",
    "model.compile(\n",
    "    loss = tf.keras.losses.binary_crossentropy,\n",
    "    optimizer = tf.keras.optimizers.Adam(lr = 0.02),\n",
    "    metrics = [\n",
    "        tf.keras.metrics.BinaryAccuracy(name='accuracy'),\n",
    "        tf.keras.metrics.Precision(name='precision'),\n",
    "        tf.keras.metrics.Recall(name='recall')\n",
    "    ]\n",
    ")"
   ]
  },
  {
   "cell_type": "code",
   "execution_count": 34,
   "metadata": {
    "colab": {
     "base_uri": "https://localhost:8080/"
    },
    "id": "PMU18Sy8q6xq",
    "outputId": "e2bb0376-459b-4c2d-c1d5-3340f2a6757a"
   },
   "outputs": [
    {
     "name": "stdout",
     "output_type": "stream",
     "text": [
      "Epoch 1/50\n",
      "WARNING:tensorflow:From C:\\Users\\Dell\\OneDrive\\Documents\\lib\\site-packages\\keras\\src\\utils\\tf_utils.py:492: The name tf.ragged.RaggedTensorValue is deprecated. Please use tf.compat.v1.ragged.RaggedTensorValue instead.\n",
      "\n"
     ]
    },
    {
     "name": "stderr",
     "output_type": "stream",
     "text": [
      "WARNING:tensorflow:From C:\\Users\\Dell\\OneDrive\\Documents\\lib\\site-packages\\keras\\src\\utils\\tf_utils.py:492: The name tf.ragged.RaggedTensorValue is deprecated. Please use tf.compat.v1.ragged.RaggedTensorValue instead.\n",
      "\n"
     ]
    },
    {
     "name": "stdout",
     "output_type": "stream",
     "text": [
      "7429/7429 [==============================] - 18s 2ms/step - loss: 0.2312 - accuracy: 0.9221 - precision: 0.6288 - recall: 0.2597 - val_loss: 0.2231 - val_accuracy: 0.9219 - val_precision: 0.6094 - val_recall: 0.2727\n",
      "Epoch 2/50\n",
      "7429/7429 [==============================] - 13s 2ms/step - loss: 0.2156 - accuracy: 0.9237 - precision: 0.6710 - recall: 0.2454 - val_loss: 0.2178 - val_accuracy: 0.9227 - val_precision: 0.6711 - val_recall: 0.2112\n",
      "Epoch 3/50\n",
      "7429/7429 [==============================] - 13s 2ms/step - loss: 0.2140 - accuracy: 0.9238 - precision: 0.6752 - recall: 0.2417 - val_loss: 0.2191 - val_accuracy: 0.9215 - val_precision: 0.6284 - val_recall: 0.2294\n",
      "Epoch 4/50\n",
      "7429/7429 [==============================] - 12s 2ms/step - loss: 0.2139 - accuracy: 0.9241 - precision: 0.6721 - recall: 0.2526 - val_loss: 0.2182 - val_accuracy: 0.9226 - val_precision: 0.6919 - val_recall: 0.1916\n",
      "Epoch 5/50\n",
      "7429/7429 [==============================] - 12s 2ms/step - loss: 0.2134 - accuracy: 0.9242 - precision: 0.6811 - recall: 0.2460 - val_loss: 0.2175 - val_accuracy: 0.9215 - val_precision: 0.6070 - val_recall: 0.2657\n",
      "Epoch 6/50\n",
      "7429/7429 [==============================] - 13s 2ms/step - loss: 0.2133 - accuracy: 0.9242 - precision: 0.6751 - recall: 0.2522 - val_loss: 0.2159 - val_accuracy: 0.9226 - val_precision: 0.6610 - val_recall: 0.2182\n",
      "Epoch 7/50\n",
      "7429/7429 [==============================] - 13s 2ms/step - loss: 0.2131 - accuracy: 0.9240 - precision: 0.6742 - recall: 0.2486 - val_loss: 0.2168 - val_accuracy: 0.9204 - val_precision: 0.5912 - val_recall: 0.2629\n",
      "Epoch 8/50\n",
      "7429/7429 [==============================] - 13s 2ms/step - loss: 0.2130 - accuracy: 0.9241 - precision: 0.6753 - recall: 0.2489 - val_loss: 0.2170 - val_accuracy: 0.9215 - val_precision: 0.6128 - val_recall: 0.2545\n",
      "Epoch 9/50\n",
      "7429/7429 [==============================] - 12s 2ms/step - loss: 0.2129 - accuracy: 0.9236 - precision: 0.6679 - recall: 0.2469 - val_loss: 0.2183 - val_accuracy: 0.9204 - val_precision: 0.5960 - val_recall: 0.2517\n",
      "Epoch 10/50\n",
      "7429/7429 [==============================] - 13s 2ms/step - loss: 0.2129 - accuracy: 0.9241 - precision: 0.6761 - recall: 0.2481 - val_loss: 0.2180 - val_accuracy: 0.9205 - val_precision: 0.5875 - val_recall: 0.2769\n",
      "Epoch 11/50\n",
      "7429/7429 [==============================] - 13s 2ms/step - loss: 0.2128 - accuracy: 0.9239 - precision: 0.6698 - recall: 0.2512 - val_loss: 0.2176 - val_accuracy: 0.9207 - val_precision: 0.5867 - val_recall: 0.2839\n",
      "Epoch 12/50\n",
      "7429/7429 [==============================] - 13s 2ms/step - loss: 0.2127 - accuracy: 0.9241 - precision: 0.6723 - recall: 0.2522 - val_loss: 0.2164 - val_accuracy: 0.9220 - val_precision: 0.6310 - val_recall: 0.2392\n",
      "Epoch 13/50\n",
      "7429/7429 [==============================] - 12s 2ms/step - loss: 0.2127 - accuracy: 0.9238 - precision: 0.6710 - recall: 0.2478 - val_loss: 0.2166 - val_accuracy: 0.9202 - val_precision: 0.5838 - val_recall: 0.2727\n",
      "Epoch 14/50\n",
      "7429/7429 [==============================] - 13s 2ms/step - loss: 0.2126 - accuracy: 0.9243 - precision: 0.6747 - recall: 0.2540 - val_loss: 0.2172 - val_accuracy: 0.9224 - val_precision: 0.6434 - val_recall: 0.2322\n",
      "Epoch 15/50\n",
      "7429/7429 [==============================] - 12s 2ms/step - loss: 0.2124 - accuracy: 0.9241 - precision: 0.6741 - recall: 0.2508 - val_loss: 0.2175 - val_accuracy: 0.9220 - val_precision: 0.6120 - val_recall: 0.2713\n",
      "Epoch 16/50\n",
      "7429/7429 [==============================] - 13s 2ms/step - loss: 0.2128 - accuracy: 0.9239 - precision: 0.6707 - recall: 0.2500 - val_loss: 0.2172 - val_accuracy: 0.9215 - val_precision: 0.6098 - val_recall: 0.2601\n",
      "Epoch 17/50\n",
      "7429/7429 [==============================] - 13s 2ms/step - loss: 0.2125 - accuracy: 0.9242 - precision: 0.6725 - recall: 0.2534 - val_loss: 0.2171 - val_accuracy: 0.9213 - val_precision: 0.6012 - val_recall: 0.2699\n",
      "Epoch 18/50\n",
      "7429/7429 [==============================] - 12s 2ms/step - loss: 0.2125 - accuracy: 0.9240 - precision: 0.6704 - recall: 0.2512 - val_loss: 0.2173 - val_accuracy: 0.9221 - val_precision: 0.6161 - val_recall: 0.2671\n",
      "Epoch 19/50\n",
      "7429/7429 [==============================] - 13s 2ms/step - loss: 0.2125 - accuracy: 0.9242 - precision: 0.6724 - recall: 0.2542 - val_loss: 0.2164 - val_accuracy: 0.9221 - val_precision: 0.6463 - val_recall: 0.2224\n",
      "Epoch 20/50\n",
      "7429/7429 [==============================] - 12s 2ms/step - loss: 0.2124 - accuracy: 0.9242 - precision: 0.6741 - recall: 0.2526 - val_loss: 0.2189 - val_accuracy: 0.9221 - val_precision: 0.6395 - val_recall: 0.2308\n",
      "Epoch 21/50\n",
      "7429/7429 [==============================] - 12s 2ms/step - loss: 0.2125 - accuracy: 0.9243 - precision: 0.6807 - recall: 0.2475 - val_loss: 0.2169 - val_accuracy: 0.9210 - val_precision: 0.5987 - val_recall: 0.2671\n",
      "Epoch 22/50\n",
      "7429/7429 [==============================] - 13s 2ms/step - loss: 0.2123 - accuracy: 0.9245 - precision: 0.6824 - recall: 0.2515 - val_loss: 0.2184 - val_accuracy: 0.9197 - val_precision: 0.5734 - val_recall: 0.2839\n",
      "Epoch 23/50\n",
      "7429/7429 [==============================] - 13s 2ms/step - loss: 0.2123 - accuracy: 0.9243 - precision: 0.6787 - recall: 0.2502 - val_loss: 0.2181 - val_accuracy: 0.9200 - val_precision: 0.5762 - val_recall: 0.2909\n",
      "Epoch 24/50\n",
      "7429/7429 [==============================] - 13s 2ms/step - loss: 0.2124 - accuracy: 0.9243 - precision: 0.6752 - recall: 0.2529 - val_loss: 0.2162 - val_accuracy: 0.9216 - val_precision: 0.6141 - val_recall: 0.2559\n",
      "Epoch 25/50\n",
      "7429/7429 [==============================] - 13s 2ms/step - loss: 0.2124 - accuracy: 0.9243 - precision: 0.6780 - recall: 0.2500 - val_loss: 0.2178 - val_accuracy: 0.9209 - val_precision: 0.5934 - val_recall: 0.2755\n",
      "Epoch 26/50\n",
      "7429/7429 [==============================] - 13s 2ms/step - loss: 0.2123 - accuracy: 0.9245 - precision: 0.6794 - recall: 0.2536 - val_loss: 0.2157 - val_accuracy: 0.9221 - val_precision: 0.6475 - val_recall: 0.2210\n",
      "Epoch 27/50\n",
      "7429/7429 [==============================] - 13s 2ms/step - loss: 0.2123 - accuracy: 0.9237 - precision: 0.6681 - recall: 0.2483 - val_loss: 0.2161 - val_accuracy: 0.9222 - val_precision: 0.6197 - val_recall: 0.2643\n",
      "Epoch 28/50\n",
      "7429/7429 [==============================] - 14s 2ms/step - loss: 0.2124 - accuracy: 0.9237 - precision: 0.6672 - recall: 0.2495 - val_loss: 0.2164 - val_accuracy: 0.9200 - val_precision: 0.5857 - val_recall: 0.2629\n",
      "Epoch 29/50\n",
      "7429/7429 [==============================] - 13s 2ms/step - loss: 0.2121 - accuracy: 0.9243 - precision: 0.6776 - recall: 0.2515 - val_loss: 0.2167 - val_accuracy: 0.9209 - val_precision: 0.5928 - val_recall: 0.2769\n",
      "Epoch 30/50\n",
      "7429/7429 [==============================] - 14s 2ms/step - loss: 0.2122 - accuracy: 0.9243 - precision: 0.6746 - recall: 0.2548 - val_loss: 0.2158 - val_accuracy: 0.9220 - val_precision: 0.6263 - val_recall: 0.2462\n",
      "Epoch 31/50\n",
      "7429/7429 [==============================] - 13s 2ms/step - loss: 0.2122 - accuracy: 0.9239 - precision: 0.6696 - recall: 0.2506 - val_loss: 0.2168 - val_accuracy: 0.9208 - val_precision: 0.5933 - val_recall: 0.2713\n",
      "Epoch 32/50\n",
      "7429/7429 [==============================] - 13s 2ms/step - loss: 0.2122 - accuracy: 0.9242 - precision: 0.6710 - recall: 0.2557 - val_loss: 0.2163 - val_accuracy: 0.9214 - val_precision: 0.6375 - val_recall: 0.2140\n",
      "Epoch 33/50\n",
      "7429/7429 [==============================] - 13s 2ms/step - loss: 0.2120 - accuracy: 0.9243 - precision: 0.6757 - recall: 0.2542 - val_loss: 0.2160 - val_accuracy: 0.9205 - val_precision: 0.5955 - val_recall: 0.2573\n",
      "Epoch 34/50\n",
      "7429/7429 [==============================] - 12s 2ms/step - loss: 0.2122 - accuracy: 0.9244 - precision: 0.6785 - recall: 0.2515 - val_loss: 0.2160 - val_accuracy: 0.9211 - val_precision: 0.6185 - val_recall: 0.2336\n",
      "Epoch 35/50\n",
      "7429/7429 [==============================] - 13s 2ms/step - loss: 0.2122 - accuracy: 0.9243 - precision: 0.6790 - recall: 0.2492 - val_loss: 0.2158 - val_accuracy: 0.9205 - val_precision: 0.5902 - val_recall: 0.2699\n",
      "Epoch 36/50\n",
      "7429/7429 [==============================] - 13s 2ms/step - loss: 0.2119 - accuracy: 0.9245 - precision: 0.6754 - recall: 0.2577 - val_loss: 0.2163 - val_accuracy: 0.9215 - val_precision: 0.6098 - val_recall: 0.2601\n",
      "Epoch 37/50\n"
     ]
    },
    {
     "name": "stdout",
     "output_type": "stream",
     "text": [
      "7429/7429 [==============================] - 13s 2ms/step - loss: 0.2121 - accuracy: 0.9244 - precision: 0.6755 - recall: 0.2549 - val_loss: 0.2156 - val_accuracy: 0.9224 - val_precision: 0.6259 - val_recall: 0.2573\n",
      "Epoch 38/50\n",
      "7429/7429 [==============================] - 13s 2ms/step - loss: 0.2120 - accuracy: 0.9238 - precision: 0.6698 - recall: 0.2494 - val_loss: 0.2164 - val_accuracy: 0.9209 - val_precision: 0.6000 - val_recall: 0.2601\n",
      "Epoch 39/50\n",
      "7429/7429 [==============================] - 13s 2ms/step - loss: 0.2120 - accuracy: 0.9240 - precision: 0.6738 - recall: 0.2491 - val_loss: 0.2155 - val_accuracy: 0.9221 - val_precision: 0.6324 - val_recall: 0.2406\n",
      "Epoch 40/50\n",
      "7429/7429 [==============================] - 12s 2ms/step - loss: 0.2119 - accuracy: 0.9241 - precision: 0.6730 - recall: 0.2517 - val_loss: 0.2153 - val_accuracy: 0.9225 - val_precision: 0.6728 - val_recall: 0.2042\n",
      "Epoch 41/50\n",
      "7429/7429 [==============================] - 12s 2ms/step - loss: 0.2119 - accuracy: 0.9240 - precision: 0.6748 - recall: 0.2483 - val_loss: 0.2155 - val_accuracy: 0.9210 - val_precision: 0.5987 - val_recall: 0.2671\n",
      "Epoch 42/50\n",
      "7429/7429 [==============================] - 13s 2ms/step - loss: 0.2118 - accuracy: 0.9241 - precision: 0.6749 - recall: 0.2500 - val_loss: 0.2168 - val_accuracy: 0.9203 - val_precision: 0.5812 - val_recall: 0.2853\n",
      "Epoch 43/50\n",
      "7429/7429 [==============================] - 14s 2ms/step - loss: 0.2117 - accuracy: 0.9238 - precision: 0.6699 - recall: 0.2491 - val_loss: 0.2155 - val_accuracy: 0.9211 - val_precision: 0.6060 - val_recall: 0.2559\n",
      "Epoch 44/50\n",
      "7429/7429 [==============================] - 13s 2ms/step - loss: 0.2118 - accuracy: 0.9245 - precision: 0.6786 - recall: 0.2546 - val_loss: 0.2153 - val_accuracy: 0.9216 - val_precision: 0.6189 - val_recall: 0.2476\n",
      "Epoch 45/50\n",
      "7429/7429 [==============================] - 13s 2ms/step - loss: 0.2116 - accuracy: 0.9239 - precision: 0.6687 - recall: 0.2525 - val_loss: 0.2171 - val_accuracy: 0.9209 - val_precision: 0.6062 - val_recall: 0.2476\n",
      "Epoch 46/50\n",
      "7429/7429 [==============================] - 13s 2ms/step - loss: 0.2116 - accuracy: 0.9241 - precision: 0.6745 - recall: 0.2495 - val_loss: 0.2149 - val_accuracy: 0.9219 - val_precision: 0.6159 - val_recall: 0.2601\n",
      "Epoch 47/50\n",
      "7429/7429 [==============================] - 13s 2ms/step - loss: 0.2116 - accuracy: 0.9244 - precision: 0.6796 - recall: 0.2512 - val_loss: 0.2156 - val_accuracy: 0.9199 - val_precision: 0.5804 - val_recall: 0.2727\n",
      "Epoch 48/50\n",
      "7429/7429 [==============================] - 13s 2ms/step - loss: 0.2116 - accuracy: 0.9240 - precision: 0.6718 - recall: 0.2512 - val_loss: 0.2168 - val_accuracy: 0.9202 - val_precision: 0.5809 - val_recall: 0.2811\n",
      "Epoch 49/50\n",
      "7429/7429 [==============================] - 13s 2ms/step - loss: 0.2117 - accuracy: 0.9242 - precision: 0.6724 - recall: 0.2545 - val_loss: 0.2150 - val_accuracy: 0.9216 - val_precision: 0.6133 - val_recall: 0.2573\n",
      "Epoch 50/50\n",
      "7429/7429 [==============================] - 13s 2ms/step - loss: 0.2115 - accuracy: 0.9245 - precision: 0.6743 - recall: 0.2599 - val_loss: 0.2160 - val_accuracy: 0.9207 - val_precision: 0.5943 - val_recall: 0.2643\n"
     ]
    }
   ],
   "source": [
    "history = model.fit(X_train_std, Y_train, epochs=50, validation_split=0.1,batch_size=10)"
   ]
  },
  {
   "cell_type": "code",
   "execution_count": 35,
   "metadata": {
    "colab": {
     "base_uri": "https://localhost:8080/",
     "height": 490
    },
    "id": "NBK5yiG2rBqP",
    "outputId": "475d78ee-8390-408c-c621-e7d33888ce2f"
   },
   "outputs": [
    {
     "data": {
      "text/plain": [
       "<matplotlib.legend.Legend at 0x2019f1bbbe0>"
      ]
     },
     "execution_count": 35,
     "metadata": {},
     "output_type": "execute_result"
    },
    {
     "data": {
      "image/png": "[encoded data removed]",
      "text/plain": [
       "<Figure size 432x288 with 1 Axes>"
      ]
     },
     "metadata": {},
     "output_type": "display_data"
    }
   ],
   "source": [
    "plt.plot(history.history['accuracy'])\n",
    "plt.plot(history.history['val_accuracy'])\n",
    "\n",
    "plt.title('model accuracy')\n",
    "plt.ylabel('accuracy')\n",
    "plt.xlabel('epoch')\n",
    "\n",
    "plt.legend(['training data', 'validation data'], loc = 'lower right')"
   ]
  },
  {
   "cell_type": "code",
   "execution_count": 36,
   "metadata": {
    "colab": {
     "base_uri": "https://localhost:8080/",
     "height": 490
    },
    "id": "MeRPJoa40PR9",
    "outputId": "3ea2a2f6-7365-4550-b236-697caab398ce"
   },
   "outputs": [
    {
     "data": {
      "text/plain": [
       "<matplotlib.legend.Legend at 0x2019f200610>"
      ]
     },
     "execution_count": 36,
     "metadata": {},
     "output_type": "execute_result"
    },
    {
     "data": {
      "image/png": "[encoded data removed]",
      "text/plain": [
       "<Figure size 432x288 with 1 Axes>"
      ]
     },
     "metadata": {},
     "output_type": "display_data"
    }
   ],
   "source": [
    "plt.plot(history.history['loss'])\n",
    "plt.plot(history.history['val_loss'])\n",
    "\n",
    "plt.title('model loss')\n",
    "plt.ylabel('loss')\n",
    "plt.xlabel('epoch')\n",
    "\n",
    "plt.legend(['training data', 'validation data'], loc = 'upper right')"
   ]
  },
  {
   "cell_type": "code",
   "execution_count": 37,
   "metadata": {
    "id": "JTlbatyO2vCo"
   },
   "outputs": [],
   "source": [
    "#saving the model\n",
    "model.save('k_m.h5')"
   ]
  },
  {
   "cell_type": "code",
   "execution_count": 38,
   "metadata": {
    "id": "gJPR6iHU20Ur"
   },
   "outputs": [],
   "source": [
    "#loading the model\n",
    "from keras.models import load_model\n",
    "model = load_model('k_m.h5')"
   ]
  },
  {
   "cell_type": "code",
   "execution_count": null,
   "metadata": {
    "collapsed": true,
    "id": "ICZKQI_A3wz3"
   },
   "outputs": [],
   "source": []
  }
 ],
 "metadata": {
  "colab": {
   "provenance": []
  },
  "kernelspec": {
   "display_name": "Python 3 (ipykernel)",
   "language": "python",
   "name": "python3"
  },
  "language_info": {
   "codemirror_mode": {
    "name": "ipython",
    "version": 3
   },
   "file_extension": ".py",
   "mimetype": "text/x-python",
   "name": "python",
   "nbconvert_exporter": "python",
   "pygments_lexer": "ipython3",
   "version": "3.9.7"
  }
 },
 "nbformat": 4,
 "nbformat_minor": 1
}
